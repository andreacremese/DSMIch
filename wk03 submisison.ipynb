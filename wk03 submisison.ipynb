{
 "cells": [
  {
   "cell_type": "code",
   "execution_count": 277,
   "metadata": {},
   "outputs": [
    {
     "name": "stdout",
     "output_type": "stream",
     "text": [
      "Energy Supply               3.199000e+09\n",
      "Energy Supply per Capita    1.900000e+02\n",
      "% Renewable                 6.324659e+00\n",
      "Name: Netherlands, dtype: float64\n"
     ]
    }
   ],
   "source": [
    "import pandas as pd\n",
    "import numpy as np\n",
    "import re\n",
    "energy = pd.read_excel('Energy Indicators.xls', skiprows=17,usecols=[1,2,3,4,5], skip_footer=38, index_col=1, names=['Country', 'Energy Supply', 'Energy Supply per Capita', '% Renewable'])\n",
    "energy.replace(to_replace = \"...\", value =np.nan, inplace=True)\n",
    "\n",
    "# confert to peta joule\n",
    "def convert_row(row) :\n",
    "    if (np.isnan(row['Energy Supply'])) :\n",
    "        return np.nan\n",
    "    else :\n",
    "        return int(row['Energy Supply']) * 1e6\n",
    "        \n",
    "\n",
    "energy['Energy Supply'] = energy.apply(lambda row : convert_row(row), axis = 1) \n",
    "\n",
    "# sanitizing name of countries\n",
    "energy.reset_index(inplace=True)\n",
    "energy.drop('index', axis = 1, inplace=True)\n",
    "    \n",
    "energy[\"Country\"].replace(\"Republic of Korea\", value=\"South Korea\", inplace=True)\n",
    "energy[\"Country\"].replace(\"United States of America\", value=\"United States\", inplace=True)\n",
    "energy[\"Country\"].replace(\"United Kingdom of Great Britain and Northern Ireland\", value=\"United Kingdom\", inplace=True)\n",
    "energy[\"Country\"].replace(\"China, Hong Kong Special Administrative Region\", value=\"Hong Kong\", inplace=True)    \n",
    "\n",
    "\n",
    "# remove contents of brackets\n",
    "def remove_brackets(row) :\n",
    "    if (row[\"Country\"].find(\"(\") == -1) :\n",
    "        return row[\"Country\"]\n",
    "    else :\n",
    "        i = row[\"Country\"].find(\"(\") \n",
    "        return row[\"Country\"][ : i ].rstrip()\n",
    "energy[\"Country\"] = energy.apply(lambda row : remove_brackets(row), axis =1)\n",
    "\n",
    "#remove numbers\n",
    "def remove_numbers(row) :\n",
    "    strin = row[\"Country\"]\n",
    "    m = re.search('\\d', strin)\n",
    "    if (m is None) : \n",
    "        return row[\"Country\"]\n",
    "    else :\n",
    "        return strin[ :m.start()].rstrip()\n",
    "energy[\"Country\"] = energy.apply(lambda row : remove_numbers(row), axis =1)\n",
    "\n",
    "\n",
    "\n",
    "energy.set_index(\"Country\", inplace=True)\n"
   ]
  },
  {
   "cell_type": "code",
   "execution_count": 267,
   "metadata": {},
   "outputs": [
    {
     "name": "stdout",
     "output_type": "stream",
     "text": [
      "andrea\n"
     ]
    }
   ],
   "source": [
    "import re\n",
    "strin = \"andrea 123\"\n",
    "m = strin[ :re.search('\\d', strin).start()].rstrip()\n",
    "print(m)"
   ]
  },
  {
   "cell_type": "code",
   "execution_count": 271,
   "metadata": {},
   "outputs": [
    {
     "name": "stdout",
     "output_type": "stream",
     "text": [
      "True\n"
     ]
    }
   ],
   "source": [
    "import re\n",
    "strin = \"andrea\"\n",
    "m = re.search('\\d', strin)\n",
    "print(m is None)"
   ]
  },
  {
   "cell_type": "code",
   "execution_count": null,
   "metadata": {
    "collapsed": true
   },
   "outputs": [],
   "source": [
    "\n",
    "\n",
    "The first two columns are unneccessary, so you should get rid of them, and you should change the column labels so that the columns are:"
   ]
  },
  {
   "cell_type": "code",
   "execution_count": null,
   "metadata": {
    "collapsed": true
   },
   "outputs": [],
   "source": []
  }
 ],
 "metadata": {
  "kernelspec": {
   "display_name": "Python 3",
   "language": "python",
   "name": "python3"
  },
  "language_info": {
   "codemirror_mode": {
    "name": "ipython",
    "version": 3
   },
   "file_extension": ".py",
   "mimetype": "text/x-python",
   "name": "python",
   "nbconvert_exporter": "python",
   "pygments_lexer": "ipython3",
   "version": "3.6.3"
  }
 },
 "nbformat": 4,
 "nbformat_minor": 2
}
